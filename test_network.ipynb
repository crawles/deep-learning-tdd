{
 "cells": [
  {
   "cell_type": "code",
   "execution_count": 2,
   "metadata": {
    "ExecuteTime": {
     "end_time": "2017-01-29T16:54:02.611341",
     "start_time": "2017-01-29T16:54:02.604772"
    },
    "collapsed": true
   },
   "outputs": [],
   "source": [
    "%matplotlib inline\n",
    "\n",
    "from matplotlib import pyplot as plt\n",
    "import numpy as np"
   ]
  },
  {
   "cell_type": "code",
   "execution_count": 5,
   "metadata": {
    "ExecuteTime": {
     "end_time": "2017-01-29T16:58:04.634789",
     "start_time": "2017-01-29T16:58:04.628434"
    },
    "collapsed": false
   },
   "outputs": [
    {
     "data": {
      "text/plain": [
       "[(2.7012433621991363, 2.7012433621991363),\n",
       " (-2.3179038827095209, -2.3179038827095209),\n",
       " (0.91525313192032609, 0.91525313192032609),\n",
       " (1.6309934710861009, 1.6309934710861009),\n",
       " (1.6344140358693071, 1.6344140358693071)]"
      ]
     },
     "execution_count": 5,
     "metadata": {},
     "output_type": "execute_result"
    }
   ],
   "source": [
    "a = np.random.uniform(-5,5,5)\n",
    "zip(a,a)"
   ]
  },
  {
   "cell_type": "code",
   "execution_count": 37,
   "metadata": {
    "ExecuteTime": {
     "end_time": "2017-01-29T17:09:27.828997",
     "start_time": "2017-01-29T17:09:27.824603"
    },
    "collapsed": false
   },
   "outputs": [
    {
     "data": {
      "text/plain": [
       "50"
      ]
     },
     "execution_count": 37,
     "metadata": {},
     "output_type": "execute_result"
    }
   ],
   "source": [
    "100/2"
   ]
  },
  {
   "cell_type": "code",
   "execution_count": 39,
   "metadata": {
    "ExecuteTime": {
     "end_time": "2017-01-29T17:09:43.427661",
     "start_time": "2017-01-29T17:09:43.416450"
    },
    "collapsed": false
   },
   "outputs": [
    {
     "data": {
      "text/plain": [
       "(2, 100)"
      ]
     },
     "execution_count": 39,
     "metadata": {},
     "output_type": "execute_result"
    }
   ],
   "source": [
    "n_examples = 100\n",
    "x1 = np.vstack([np.random.uniform(0,5,n_examples/2),\n",
    "                np.random.uniform(0,5,n_examples/2)])\n",
    "y1 = np.array([0]*(n_examples/2))\n",
    "x2 = np.vstack([np.random.uniform(-5,0,n_examples/2),\n",
    "                np.random.uniform(-5,0,n_examples/2)])\n",
    "y2 = np.array([1]*(n_examples/2))\n",
    "X = np.hstack([x1,x2])\n",
    "y = np.concatenate([y1,y2]) \n",
    "X.shape\n",
    "# y.shape"
   ]
  },
  {
   "cell_type": "code",
   "execution_count": 27,
   "metadata": {
    "ExecuteTime": {
     "end_time": "2017-01-29T17:03:12.500508",
     "start_time": "2017-01-29T17:03:12.252673"
    },
    "collapsed": false
   },
   "outputs": [
    {
     "data": {
      "text/plain": [
       "[<matplotlib.lines.Line2D at 0x1065e9390>]"
      ]
     },
     "execution_count": 27,
     "metadata": {},
     "output_type": "execute_result"
    },
    {
     "data": {
      "image/png": "[encoded data removed]",
      "text/plain": [
       "<matplotlib.figure.Figure at 0x1065e9210>"
      ]
     },
     "metadata": {},
     "output_type": "display_data"
    }
   ],
   "source": [
    "plt.plot(x1[0],x1[1],'ro')\n",
    "plt.plot(x2[0],x2[1],'bo')"
   ]
  },
  {
   "cell_type": "code",
   "execution_count": 46,
   "metadata": {
    "ExecuteTime": {
     "end_time": "2017-01-29T17:13:42.416701",
     "start_time": "2017-01-29T17:13:42.413560"
    },
    "collapsed": true
   },
   "outputs": [],
   "source": [
    "from neural_network import NeuralNetwork\n",
    "cl = NeuralNetwork(2,1)"
   ]
  },
  {
   "cell_type": "code",
   "execution_count": 49,
   "metadata": {
    "ExecuteTime": {
     "end_time": "2017-01-29T17:14:06.185487",
     "start_time": "2017-01-29T17:14:06.179216"
    },
    "collapsed": false
   },
   "outputs": [],
   "source": [
    "cl.fit(X,y,n_iter=1)"
   ]
  },
  {
   "cell_type": "code",
   "execution_count": 50,
   "metadata": {
    "ExecuteTime": {
     "end_time": "2017-01-29T17:14:06.845326",
     "start_time": "2017-01-29T17:14:06.840242"
    },
    "collapsed": false
   },
   "outputs": [
    {
     "data": {
      "text/plain": [
       "array([  1.65612242e+46,   1.13504133e+45])"
      ]
     },
     "execution_count": 50,
     "metadata": {},
     "output_type": "execute_result"
    }
   ],
   "source": [
    "cl.W"
   ]
  },
  {
   "cell_type": "markdown",
   "metadata": {},
   "source": [
    "# watch the decision boundry evolve"
   ]
  },
  {
   "cell_type": "code",
   "execution_count": null,
   "metadata": {
    "collapsed": true
   },
   "outputs": [],
   "source": []
  }
 ],
 "metadata": {
  "anaconda-cloud": {},
  "kernelspec": {
   "display_name": "Python [conda root]",
   "language": "python",
   "name": "conda-root-py"
  },
  "language_info": {
   "codemirror_mode": {
    "name": "ipython",
    "version": 2
   },
   "file_extension": ".py",
   "mimetype": "text/x-python",
   "name": "python",
   "nbconvert_exporter": "python",
   "pygments_lexer": "ipython2",
   "version": "2.7.12"
  },
  "toc": {
   "nav_menu": {
    "height": "30px",
    "width": "252px"
   },
   "navigate_menu": true,
   "number_sections": true,
   "sideBar": true,
   "threshold": 4,
   "toc_cell": false,
   "toc_section_display": "block",
   "toc_window_display": false
  }
 },
 "nbformat": 4,
 "nbformat_minor": 1
}
